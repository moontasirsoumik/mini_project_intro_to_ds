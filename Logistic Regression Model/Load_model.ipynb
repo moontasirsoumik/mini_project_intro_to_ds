{
 "cells": [
  {
   "cell_type": "code",
   "execution_count": 1,
   "metadata": {},
   "outputs": [],
   "source": [
    "# Import libraries\n",
    "import pandas as pd\n",
    "import joblib "
   ]
  },
  {
   "cell_type": "code",
   "execution_count": 2,
   "metadata": {},
   "outputs": [],
   "source": [
    "# Load json file\n",
    "df = pd.read_json('News_Category_Dataset_v3.json', lines=True)\n",
    "\n",
    "# Keep only relevant columns\n",
    "df = df[['headline', 'category']]\n",
    "\n",
    "# Factorize category_id\n",
    "df['category_id'], categories = pd.factorize(df['category'])\n",
    "df['category_id'] = df['category_id'] + 1"
   ]
  },
  {
   "cell_type": "code",
   "execution_count": 3,
   "metadata": {},
   "outputs": [],
   "source": [
    "# Load the model\n",
    "lr = joblib.load('lr_model.joblib')"
   ]
  },
  {
   "cell_type": "code",
   "execution_count": 4,
   "metadata": {},
   "outputs": [
    {
     "name": "stdout",
     "output_type": "stream",
     "text": [
      "POLITICS : Biden to Sign Executive Order That Aims to Make Child Care Cheaper\n",
      "TECH : Google Stock Loses $57 Billion Amid Microsoft's AI 'Lead'—And        Reports It Could Be Replaced By Bing On Some Smartphones\n",
      "WORLD NEWS : Poland suspends food imports from Ukraine to assist its farmers\n",
      "TECH : Can AI Solve The Air Traffic Control Problem? Let's Find Out\n",
      "WORLD NEWS : Woman From Odisha Runs 42.5 KM In UK Marathon Wearing A Saree\n",
      "POLITICS : Hillary Clinton: Trump cannot win the election - but Biden will\n",
      "ENTERTAINMENT : Jennifer Aniston and Adam Sandler starrer movie 'Murder Mystery 2'        got released on March 24, this year\n"
     ]
    }
   ],
   "source": [
    "# Test model on random healdines\n",
    "news = [\"Biden to Sign Executive Order That Aims to Make Child Care Cheaper\",\n",
    "       \"Google Stock Loses $57 Billion Amid Microsoft's AI 'Lead'—And \\\n",
    "       Reports It Could Be Replaced By Bing On Some Smartphones\",\n",
    "       \"Poland suspends food imports from Ukraine to assist its farmers\",\n",
    "       \"Can AI Solve The Air Traffic Control Problem? Let's Find Out\",\n",
    "       \"Woman From Odisha Runs 42.5 KM In UK Marathon Wearing A Saree\",\n",
    "       \"Hillary Clinton: Trump cannot win the election - but Biden will\",\n",
    "       \"Jennifer Aniston and Adam Sandler starrer movie 'Murder Mystery 2' \\\n",
    "       got released on March 24, this year\"]\n",
    "\n",
    "predicted = lr.predict(news)\n",
    "     \n",
    "for i in range(len(news)): \n",
    "    print(f\"{categories[predicted[i]-1]} : {news[i]}\")"
   ]
  }
 ],
 "metadata": {
  "kernelspec": {
   "display_name": "Python 3",
   "language": "python",
   "name": "python3"
  },
  "language_info": {
   "codemirror_mode": {
    "name": "ipython",
    "version": 3
   },
   "file_extension": ".py",
   "mimetype": "text/x-python",
   "name": "python",
   "nbconvert_exporter": "python",
   "pygments_lexer": "ipython3",
   "version": "3.11.0"
  },
  "orig_nbformat": 4
 },
 "nbformat": 4,
 "nbformat_minor": 2
}
