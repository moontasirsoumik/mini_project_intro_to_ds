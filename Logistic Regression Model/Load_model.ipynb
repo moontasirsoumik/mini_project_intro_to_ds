{
 "cells": [
  {
   "cell_type": "code",
   "execution_count": 51,
   "metadata": {},
   "outputs": [],
   "source": [
    "# Import libraries\n",
    "import pandas as pd\n",
    "import joblib \n",
    "import numpy as np\n",
    "from imblearn.over_sampling import RandomOverSampler\n",
    "import sklearn\n",
    "from sklearn.model_selection import train_test_split"
   ]
  },
  {
   "cell_type": "code",
   "execution_count": 52,
   "metadata": {},
   "outputs": [],
   "source": [
    "# Load json file\n",
    "df = pd.read_json('News_Category_Dataset_v3.json', lines=True)\n",
    "\n",
    "# Keep only relevant columns\n",
    "df = df[['headline', 'category']]\n",
    "\n",
    "# Factorize category_id\n",
    "df['category_id'], categories = pd.factorize(df['category'])\n",
    "df['category_id'] = df['category_id'] + 1"
   ]
  },
  {
   "cell_type": "code",
   "execution_count": 53,
   "metadata": {},
   "outputs": [
    {
     "name": "stdout",
     "output_type": "stream",
     "text": [
      "(1046698,)\n",
      "(448586,)\n"
     ]
    }
   ],
   "source": [
    "# Oversample the minority class to address class imbalance\n",
    "ros = RandomOverSampler(random_state=42)\n",
    "X_resampled, y_resampled = ros.fit_resample(df[['headline']], df['category_id'])\n",
    "\n",
    "# Get the category needed for testing\n",
    "X = X_resampled['headline']\n",
    "y = y_resampled\n",
    "\n",
    "# Test train split\n",
    "X_train, X_test, y_train, y_test = \\\n",
    "train_test_split(X, y, test_size = 0.30, random_state = 90)\n",
    "print(X_train.shape)\n",
    "print(X_test.shape)"
   ]
  },
  {
   "cell_type": "code",
   "execution_count": 54,
   "metadata": {},
   "outputs": [],
   "source": [
    "# Load the model\n",
    "lr = joblib.load('lr_model.joblib')"
   ]
  },
  {
   "cell_type": "code",
   "execution_count": 55,
   "metadata": {},
   "outputs": [
    {
     "name": "stdout",
     "output_type": "stream",
     "text": [
      "POLITICS : Biden to Sign Executive Order That Aims to Make Child Care Cheaper\n",
      "TECH : Google Stock Loses $57 Billion Amid Microsoft's AI 'Lead'—And        Reports It Could Be Replaced By Bing On Some Smartphones\n",
      "WORLD NEWS : Poland suspends food imports from Ukraine to assist its farmers\n",
      "TECH : Can AI Solve The Air Traffic Control Problem? Let's Find Out\n",
      "WORLD NEWS : Woman From Odisha Runs 42.5 KM In UK Marathon Wearing A Saree\n",
      "POLITICS : Hillary Clinton: Trump cannot win the election - but Biden will\n",
      "ENTERTAINMENT : Jennifer Aniston and Adam Sandler starrer movie 'Murder Mystery 2'        got released on March 24, this year\n"
     ]
    }
   ],
   "source": [
    "# Test model on random healdines (only one category)\n",
    "y_test = [\"Biden to Sign Executive Order That Aims to Make Child Care Cheaper\",\n",
    "       \"Google Stock Loses $57 Billion Amid Microsoft's AI 'Lead'—And \\\n",
    "       Reports It Could Be Replaced By Bing On Some Smartphones\",\n",
    "       \"Poland suspends food imports from Ukraine to assist its farmers\",\n",
    "       \"Can AI Solve The Air Traffic Control Problem? Let's Find Out\",\n",
    "       \"Woman From Odisha Runs 42.5 KM In UK Marathon Wearing A Saree\",\n",
    "       \"Hillary Clinton: Trump cannot win the election - but Biden will\",\n",
    "       \"Jennifer Aniston and Adam Sandler starrer movie 'Murder Mystery 2' \\\n",
    "       got released on March 24, this year\"]\n",
    "\n",
    "y_pred = lr.predict(y_test)\n",
    "     \n",
    "for i in range(len(y_test)): \n",
    "    print(f\"{categories[y_pred[i]-1]} : {y_test[i]}\")"
   ]
  },
  {
   "cell_type": "code",
   "execution_count": 56,
   "metadata": {},
   "outputs": [
    {
     "name": "stdout",
     "output_type": "stream",
     "text": [
      "Headline: Biden to Sign Executive Order That Aims to Make Child Care Cheaper\n",
      "POLITICS: 41.11%\n",
      "U.S. NEWS: 8.69%\n",
      "PARENTING: 4.86%\n",
      "\n",
      "Headline: Google Stock Loses $57 Billion Amid Microsoft's AI 'Lead'—And        Reports It Could Be Replaced By Bing On Some Smartphones\n",
      "TECH: 99.71%\n",
      "BUSINESS: 0.09%\n",
      "THE WORLDPOST: 0.02%\n",
      "\n",
      "Headline: Poland suspends food imports from Ukraine to assist its farmers\n",
      "WORLD NEWS: 74.80%\n",
      "WORLDPOST: 9.81%\n",
      "TASTE: 2.94%\n",
      "\n",
      "Headline: Can AI Solve The Air Traffic Control Problem? Let's Find Out\n",
      "TECH: 11.17%\n",
      "HEALTHY LIVING: 9.19%\n",
      "SCIENCE: 8.60%\n",
      "\n",
      "Headline: Woman From Odisha Runs 42.5 KM In UK Marathon Wearing A Saree\n",
      "WORLD NEWS: 25.15%\n",
      "SPORTS: 22.70%\n",
      "WEIRD NEWS: 19.28%\n",
      "\n",
      "Headline: Hillary Clinton: Trump cannot win the election - but Biden will\n",
      "POLITICS: 99.79%\n",
      "WOMEN: 0.12%\n",
      "COMEDY: 0.02%\n",
      "\n",
      "Headline: Jennifer Aniston and Adam Sandler starrer movie 'Murder Mystery 2'        got released on March 24, this year\n",
      "ENTERTAINMENT: 95.40%\n",
      "CRIME: 0.76%\n",
      "COMEDY: 0.52%\n",
      "\n"
     ]
    },
    {
     "name": "stderr",
     "output_type": "stream",
     "text": [
      "C:\\Users\\Moontasir Soumik\\AppData\\Local\\Temp\\ipykernel_20624\\2492972710.py:7: FutureWarning: Support for multi-dimensional indexing (e.g. `obj[:, None]`) is deprecated and will be removed in a future version.  Convert to a numpy array before indexing instead.\n",
      "  top_three_categories = categories[top_three_indices]\n"
     ]
    }
   ],
   "source": [
    "# Test model on random healdines (three categories with match percentage)\n",
    "y_pred_prob = lr.predict_proba(y_test)\n",
    "\n",
    "# Get the top three categories and probabilities for each prediction\n",
    "top_three_indices = np.argsort(y_pred_prob, axis=1)[:, -3:]\n",
    "top_three_probs = np.sort(y_pred_prob, axis=1)[:, -3:]\n",
    "top_three_categories = categories[top_three_indices]\n",
    "\n",
    "# Print the results for each prediction\n",
    "for j in range(len(y_test)):\n",
    "    print(f\"Headline: {y_test[j]}\")\n",
    "    for i in range(2, -1, -1):\n",
    "        print(f\"{top_three_categories[j, i]}: {top_three_probs[j, i] * 100:.2f}%\")\n",
    "    print()"
   ]
  },
  {
   "cell_type": "code",
   "execution_count": 57,
   "metadata": {},
   "outputs": [
    {
     "name": "stdout",
     "output_type": "stream",
     "text": [
      "Headline: Biden to Sign Executive Order That Aims to Make Child Care Cheaper\n",
      "Categories and probabilities:\n",
      "POLITICS: 41.11%\n",
      "U.S. NEWS: 8.69%\n",
      "\n",
      "Headline: Google Stock Loses $57 Billion Amid Microsoft's AI 'Lead'—And        Reports It Could Be Replaced By Bing On Some Smartphones\n",
      "Categories and probabilities:\n",
      "TECH: 99.71%\n",
      "\n",
      "Headline: Poland suspends food imports from Ukraine to assist its farmers\n",
      "Categories and probabilities:\n",
      "WORLD NEWS: 74.80%\n",
      "WORLDPOST: 9.81%\n",
      "\n",
      "Headline: Can AI Solve The Air Traffic Control Problem? Let's Find Out\n",
      "Categories and probabilities:\n",
      "TECH: 11.17%\n",
      "HEALTHY LIVING: 9.19%\n",
      "SCIENCE: 8.60%\n",
      "BUSINESS: 7.98%\n",
      "WEIRD NEWS: 7.48%\n",
      "WOMEN: 5.96%\n",
      "WORLD NEWS: 5.77%\n",
      "\n",
      "Headline: Woman From Odisha Runs 42.5 KM In UK Marathon Wearing A Saree\n",
      "Categories and probabilities:\n",
      "WORLD NEWS: 25.15%\n",
      "SPORTS: 22.70%\n",
      "WEIRD NEWS: 19.28%\n",
      "WOMEN: 6.12%\n",
      "\n",
      "Headline: Hillary Clinton: Trump cannot win the election - but Biden will\n",
      "Categories and probabilities:\n",
      "POLITICS: 99.79%\n",
      "\n",
      "Headline: Jennifer Aniston and Adam Sandler starrer movie 'Murder Mystery 2'        got released on March 24, this year\n",
      "Categories and probabilities:\n",
      "ENTERTAINMENT: 95.40%\n",
      "\n"
     ]
    }
   ],
   "source": [
    "# Test model on random headlines (categories with more than 5% probability)\n",
    "y_pred_prob = lr.predict_proba(y_test)\n",
    "\n",
    "# Get the categories and probabilities for each prediction that are above 5%\n",
    "above_five_indices = np.argwhere(y_pred_prob > 0.05)\n",
    "above_five_probs = y_pred_prob[above_five_indices[:, 0], above_five_indices[:, 1]]\n",
    "above_five_categories = categories[above_five_indices[:, 1]]\n",
    "\n",
    "# Print the results for each prediction\n",
    "for j in range(len(y_test)):\n",
    "    print(f\"Headline: {y_test[j]}\")\n",
    "    print(f\"Categories and probabilities:\")\n",
    "    # Find the indices of the categories and probabilities for the current prediction\n",
    "    current_indices = np.where(above_five_indices[:, 0] == j)[0]\n",
    "    # Sort them in descending order of probability\n",
    "    sorted_indices = np.argsort(above_five_probs[current_indices])[::-1]\n",
    "    # Print them in order\n",
    "    for i in sorted_indices:\n",
    "        print(f\"{above_five_categories[current_indices[i]]}: {above_five_probs[current_indices[i]] * 100:.2f}%\")\n",
    "    print()"
   ]
  }
 ],
 "metadata": {
  "kernelspec": {
   "display_name": "Python 3",
   "language": "python",
   "name": "python3"
  },
  "language_info": {
   "codemirror_mode": {
    "name": "ipython",
    "version": 3
   },
   "file_extension": ".py",
   "mimetype": "text/x-python",
   "name": "python",
   "nbconvert_exporter": "python",
   "pygments_lexer": "ipython3",
   "version": "3.11.0"
  },
  "orig_nbformat": 4
 },
 "nbformat": 4,
 "nbformat_minor": 2
}
