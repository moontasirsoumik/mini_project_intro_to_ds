{
 "cells": [
  {
   "cell_type": "code",
   "execution_count": null,
   "metadata": {},
   "outputs": [],
   "source": [
    "# Import libraries\n",
    "from imblearn.over_sampling import RandomOverSampler\n",
    "from sklearn.model_selection import train_test_split\n",
    "from sklearn.feature_extraction.text import TfidfVectorizer\n",
    "from sklearn.linear_model import LogisticRegression\n",
    "from sklearn.pipeline import Pipeline\n",
    "from sklearn.metrics import accuracy_score\n",
    "import joblib \n",
    "import pandas as pd"
   ]
  },
  {
   "cell_type": "code",
   "execution_count": null,
   "metadata": {},
   "outputs": [],
   "source": [
    "# Load json file\n",
    "df = pd.read_json('News_Category_Dataset_v3.json', lines=True)\n",
    "\n",
    "# Keep only relevant columns\n",
    "df = df[['headline', 'category']]\n",
    "\n",
    "# Factorize category_id\n",
    "df['category_id'], categories = pd.factorize(df['category'])\n",
    "df['category_id'] = df['category_id'] + 1\n",
    "\n",
    "# Dropping all rows containing NaN\n",
    "df = df.dropna()"
   ]
  },
  {
   "cell_type": "code",
   "execution_count": null,
   "metadata": {},
   "outputs": [],
   "source": [
    "# Oversample the minority class to address class imbalance\n",
    "ros = RandomOverSampler(random_state=42)\n",
    "X_resampled, y_resampled = ros.fit_resample(df[['headline']], df['category_id'])\n",
    "\n",
    "# Get the category we need for testing\n",
    "X = X_resampled['headline']\n",
    "y = y_resampled\n",
    "\n",
    "# Create test/train split\n",
    "X_train, X_test, y_train, y_test = \\\n",
    "train_test_split(X, y, test_size = 0.30, random_state = 90)\n",
    "print(X_train.shape)\n",
    "print(X_test.shape)"
   ]
  },
  {
   "cell_type": "code",
   "execution_count": null,
   "metadata": {},
   "outputs": [],
   "source": [
    "# Initiate the model\n",
    "lr = Pipeline([('cv', TfidfVectorizer()),\n",
    "               ('clf', LogisticRegression(max_iter = 10000)),\n",
    "              ])\n",
    "\n",
    "# Train the logistic regression model on the training set\n",
    "lr.fit(X_train,y_train)"
   ]
  },
  {
   "cell_type": "code",
   "execution_count": null,
   "metadata": {},
   "outputs": [],
   "source": [
    "# Make predictions on the test set\n",
    "y_pred = lr.predict(X_test)\n",
    "\n",
    "# Calculate the accuracy of the model\n",
    "print(f\"Accuracy is: {accuracy_score(y_pred,y_test)}\")"
   ]
  },
  {
   "cell_type": "code",
   "execution_count": null,
   "metadata": {},
   "outputs": [],
   "source": [
    "# Save the model\n",
    "joblib.dump(lr, 'lr_model.joblib')"
   ]
  },
  {
   "cell_type": "code",
   "execution_count": null,
   "metadata": {},
   "outputs": [],
   "source": [
    "# Test model on random healdines\n",
    "news = [\"Biden to Sign Executive Order That Aims to Make Child Care Cheaper\",\n",
    "       \"Google Stock Loses $57 Billion Amid Microsoft's AI 'Lead'—And \\\n",
    "       Reports It Could Be Replaced By Bing On Some Smartphones\",\n",
    "       \"Poland suspends food imports from Ukraine to assist its farmers\",\n",
    "       \"Can AI Solve The Air Traffic Control Problem? Let's Find Out\",\n",
    "       \"Woman From Odisha Runs 42.5 KM In UK Marathon Wearing A Saree\",\n",
    "       \"Hillary Clinton: Trump cannot win the election - but Biden will\",\n",
    "       \"Jennifer Aniston and Adam Sandler starrer movie 'Murder Mystery 2' \\\n",
    "       got released on March 24, this year\"]\n",
    "\n",
    "predicted = lr.predict(news)\n",
    "     \n",
    "for i in range(len(news)): \n",
    "    print(f\"{categories[predicted[i]-1]} : {news[i]}\")"
   ]
  }
 ],
 "metadata": {
  "language_info": {
   "name": "python"
  },
  "orig_nbformat": 4
 },
 "nbformat": 4,
 "nbformat_minor": 2
}
